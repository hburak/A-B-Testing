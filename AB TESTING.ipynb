{
 "cells": [
  {
   "cell_type": "code",
   "execution_count": null,
   "metadata": {
    "collapsed": true
   },
   "outputs": [],
   "source": [
    "#####################################################\n",
    "# AB TESTING PROJECT\n",
    "#####################################################"
   ]
  },
  {
   "cell_type": "code",
   "execution_count": null,
   "outputs": [],
   "source": [
    "#####################################################\n",
    "# DATASET\n",
    "#####################################################\n",
    "# A COMPANY DECIDED TO FOLLOW A NEW ADVERTISEMENT STRATEGY IN ORDER TO INCREASE\n",
    "# THE NUMBER OF CLICKS TO PURCHASE ITEMS ON THE WEB PAGE FOLLOWING THE NEW DESIGNED WEB ADVERTS\n",
    "\n",
    "# THE AIM OF THE PROJECT IS TO DETERMINE IF THERE HAS BEEN A STATISTICALLY SIGNIFICANT DIFFERENCE ON PURCHASES\n",
    "# FOLLOWING THE NEW ADVERTISEMENT STRATEGY\n",
    "\n",
    "# Dataset is  ab_testing Excel file consist of 2 Excel sheets having both test and control groups\n",
    "\n",
    "# each Excel sheet has 4 variables as below:\n",
    "\n",
    "# impression: view count on adverts\n",
    "# Click: Click count on adverts\n",
    "# Purchase: Purchase count on items following the advert\n",
    "# Earning: Revenues after the purchases\n"
   ],
   "metadata": {
    "collapsed": false
   }
  },
  {
   "cell_type": "code",
   "execution_count": 1,
   "outputs": [],
   "source": [
    "###############################################################\n",
    "# TASK 1: DATA PREPROCESSING and INITIAL ANALYSIS\n",
    "###############################################################\n",
    "\n",
    "import pandas as pd\n",
    "import numpy as np\n",
    "import pandas as pd\n",
    "import matplotlib.pyplot as plt\n",
    "from scipy.stats import shapiro, levene, ttest_ind\n",
    "\n",
    "\n",
    "pd.set_option('display.max_columns', None)\n",
    "pd.set_option('display.expand_frame_repr', False)\n",
    "pd.set_option('display.float_format', lambda x: '%.5f' % x)\n",
    "\n",
    "dataframe_control = pd.read_excel(\"ab_testing.xlsx\" , sheet_name=\"Control Group\")\n",
    "dataframe_test = pd.read_excel(\"ab_testing.xlsx\" , sheet_name=\"Test Group\")\n",
    "\n",
    "df_control = dataframe_control.copy()\n",
    "df_test = dataframe_test.copy()"
   ],
   "metadata": {
    "collapsed": false
   }
  },
  {
   "cell_type": "code",
   "execution_count": 2,
   "outputs": [
    {
     "name": "stdout",
     "output_type": "stream",
     "text": [
      "##################### Shape #####################\n",
      "(40, 4)\n",
      "##################### Types #####################\n",
      "Impression    float64\n",
      "Click         float64\n",
      "Purchase      float64\n",
      "Earning       float64\n",
      "dtype: object\n",
      "##################### Head #####################\n",
      "    Impression      Click  Purchase    Earning\n",
      "0  82529.45927 6090.07732 665.21125 2311.27714\n",
      "1  98050.45193 3382.86179 315.08489 1742.80686\n",
      "2  82696.02355 4167.96575 458.08374 1797.82745\n",
      "3 109914.40040 4910.88224 487.09077 1696.22918\n",
      "4 108457.76263 5987.65581 441.03405 1543.72018\n",
      "##################### Tail #####################\n",
      "     Impression      Click  Purchase    Earning\n",
      "35 132064.21900 3747.15754 551.07241 2256.97559\n",
      "36  86409.94180 4608.25621 345.04603 1781.35769\n",
      "37 123678.93423 3649.07379 476.16813 2187.72122\n",
      "38 101997.49410 4736.35337 474.61354 2254.56383\n",
      "39 121085.88122 4285.17861 590.40602 1289.30895\n",
      "##################### NA #####################\n",
      "Impression    0\n",
      "Click         0\n",
      "Purchase      0\n",
      "Earning       0\n",
      "dtype: int64\n",
      "##################### Quantiles #####################\n",
      "               0.00000     0.05000     0.50000      0.95000      0.99000      1.00000\n",
      "Impression 45475.94296 79412.01792 99790.70108 132950.53245 143105.79110 147539.33633\n",
      "Click       2189.75316  3367.48426  5001.22060   7374.36120   7761.79511   7959.12507\n",
      "Purchase     267.02894   328.66242   531.20631    748.27076    790.18779    801.79502\n",
      "Earning     1253.98952  1329.57708  1975.16052   2318.52850   2481.30874   2497.29522\n"
     ]
    }
   ],
   "source": [
    "# INITIAL ANALYSIS\n",
    "\n",
    "\n",
    "def check_df(dataframe, head=5):\n",
    "    print(\"##################### Shape #####################\")\n",
    "    print(dataframe.shape)\n",
    "    print(\"##################### Types #####################\")\n",
    "    print(dataframe.dtypes)\n",
    "    print(\"##################### Head #####################\")\n",
    "    print(dataframe.head())\n",
    "    print(\"##################### Tail #####################\")\n",
    "    print(dataframe.tail())\n",
    "    print(\"##################### NA #####################\")\n",
    "    print(dataframe.isnull().sum())\n",
    "    print(\"##################### Quantiles #####################\")\n",
    "    print(dataframe.quantile([0, 0.05, 0.50, 0.95, 0.99, 1]).T)\n",
    "\n",
    "check_df(df_control)"
   ],
   "metadata": {
    "collapsed": false
   }
  },
  {
   "cell_type": "code",
   "execution_count": 3,
   "outputs": [
    {
     "name": "stdout",
     "output_type": "stream",
     "text": [
      "##################### Shape #####################\n",
      "(40, 4)\n",
      "##################### Types #####################\n",
      "Impression    float64\n",
      "Click         float64\n",
      "Purchase      float64\n",
      "Earning       float64\n",
      "dtype: object\n",
      "##################### Head #####################\n",
      "    Impression      Click  Purchase    Earning\n",
      "0 120103.50380 3216.54796 702.16035 1939.61124\n",
      "1 134775.94336 3635.08242 834.05429 2929.40582\n",
      "2 107806.62079 3057.14356 422.93426 2526.24488\n",
      "3 116445.27553 4650.47391 429.03353 2281.42857\n",
      "4 145082.51684 5201.38772 749.86044 2781.69752\n",
      "##################### Tail #####################\n",
      "     Impression      Click  Purchase    Earning\n",
      "35  79234.91193 6002.21358 382.04712 2277.86398\n",
      "36 130702.23941 3626.32007 449.82459 2530.84133\n",
      "37 116481.87337 4702.78247 472.45373 2597.91763\n",
      "38  79033.83492 4495.42818 425.35910 2595.85788\n",
      "39 102257.45409 4800.06832 521.31073 2967.51839\n",
      "##################### NA #####################\n",
      "Impression    0\n",
      "Click         0\n",
      "Purchase      0\n",
      "Earning       0\n",
      "dtype: int64\n",
      "##################### Quantiles #####################\n",
      "               0.00000     0.05000      0.50000      0.95000      0.99000      1.00000\n",
      "Impression 79033.83492 83150.50378 119291.30077 153178.69106 158245.26380 158605.92048\n",
      "Click       1836.62986  2600.36102   3931.35980   5271.18691   6012.87730   6019.69508\n",
      "Purchase     311.62952   356.69540    551.35573    854.20895    876.57610    889.91046\n",
      "Earning     1939.61124  2080.97621   2544.66611   2931.31145   3091.94089   3171.48971\n"
     ]
    }
   ],
   "source": [
    "check_df(df_test)"
   ],
   "metadata": {
    "collapsed": false
   }
  },
  {
   "cell_type": "code",
   "execution_count": 7,
   "outputs": [
    {
     "data": {
      "text/plain": "    Impression      Click  Purchase    Earning    group\n0  82529.45927 6090.07732 665.21125 2311.27714  control\n1  98050.45193 3382.86179 315.08489 1742.80686  control\n2  82696.02355 4167.96575 458.08374 1797.82745  control\n3 109914.40040 4910.88224 487.09077 1696.22918  control\n4 108457.76263 5987.65581 441.03405 1543.72018  control",
      "text/html": "<div>\n<style scoped>\n    .dataframe tbody tr th:only-of-type {\n        vertical-align: middle;\n    }\n\n    .dataframe tbody tr th {\n        vertical-align: top;\n    }\n\n    .dataframe thead th {\n        text-align: right;\n    }\n</style>\n<table border=\"1\" class=\"dataframe\">\n  <thead>\n    <tr style=\"text-align: right;\">\n      <th></th>\n      <th>Impression</th>\n      <th>Click</th>\n      <th>Purchase</th>\n      <th>Earning</th>\n      <th>group</th>\n    </tr>\n  </thead>\n  <tbody>\n    <tr>\n      <th>0</th>\n      <td>82529.45927</td>\n      <td>6090.07732</td>\n      <td>665.21125</td>\n      <td>2311.27714</td>\n      <td>control</td>\n    </tr>\n    <tr>\n      <th>1</th>\n      <td>98050.45193</td>\n      <td>3382.86179</td>\n      <td>315.08489</td>\n      <td>1742.80686</td>\n      <td>control</td>\n    </tr>\n    <tr>\n      <th>2</th>\n      <td>82696.02355</td>\n      <td>4167.96575</td>\n      <td>458.08374</td>\n      <td>1797.82745</td>\n      <td>control</td>\n    </tr>\n    <tr>\n      <th>3</th>\n      <td>109914.40040</td>\n      <td>4910.88224</td>\n      <td>487.09077</td>\n      <td>1696.22918</td>\n      <td>control</td>\n    </tr>\n    <tr>\n      <th>4</th>\n      <td>108457.76263</td>\n      <td>5987.65581</td>\n      <td>441.03405</td>\n      <td>1543.72018</td>\n      <td>control</td>\n    </tr>\n  </tbody>\n</table>\n</div>"
     },
     "execution_count": 7,
     "metadata": {},
     "output_type": "execute_result"
    }
   ],
   "source": [
    "# Merging control and test groups\n",
    "df_control[\"group\"] = \"control\"\n",
    "df_test[\"group\"] = \"test\"\n",
    "\n",
    "df = pd.concat([df_control,df_test], axis=0,ignore_index=False)\n",
    "df.head()"
   ],
   "metadata": {
    "collapsed": false
   }
  },
  {
   "cell_type": "code",
   "execution_count": 18,
   "outputs": [
    {
     "data": {
      "text/plain": "     Impression      Click  Purchase    Earning group\n35  79234.91193 6002.21358 382.04712 2277.86398  test\n36 130702.23941 3626.32007 449.82459 2530.84133  test\n37 116481.87337 4702.78247 472.45373 2597.91763  test\n38  79033.83492 4495.42818 425.35910 2595.85788  test\n39 102257.45409 4800.06832 521.31073 2967.51839  test",
      "text/html": "<div>\n<style scoped>\n    .dataframe tbody tr th:only-of-type {\n        vertical-align: middle;\n    }\n\n    .dataframe tbody tr th {\n        vertical-align: top;\n    }\n\n    .dataframe thead th {\n        text-align: right;\n    }\n</style>\n<table border=\"1\" class=\"dataframe\">\n  <thead>\n    <tr style=\"text-align: right;\">\n      <th></th>\n      <th>Impression</th>\n      <th>Click</th>\n      <th>Purchase</th>\n      <th>Earning</th>\n      <th>group</th>\n    </tr>\n  </thead>\n  <tbody>\n    <tr>\n      <th>35</th>\n      <td>79234.91193</td>\n      <td>6002.21358</td>\n      <td>382.04712</td>\n      <td>2277.86398</td>\n      <td>test</td>\n    </tr>\n    <tr>\n      <th>36</th>\n      <td>130702.23941</td>\n      <td>3626.32007</td>\n      <td>449.82459</td>\n      <td>2530.84133</td>\n      <td>test</td>\n    </tr>\n    <tr>\n      <th>37</th>\n      <td>116481.87337</td>\n      <td>4702.78247</td>\n      <td>472.45373</td>\n      <td>2597.91763</td>\n      <td>test</td>\n    </tr>\n    <tr>\n      <th>38</th>\n      <td>79033.83492</td>\n      <td>4495.42818</td>\n      <td>425.35910</td>\n      <td>2595.85788</td>\n      <td>test</td>\n    </tr>\n    <tr>\n      <th>39</th>\n      <td>102257.45409</td>\n      <td>4800.06832</td>\n      <td>521.31073</td>\n      <td>2967.51839</td>\n      <td>test</td>\n    </tr>\n  </tbody>\n</table>\n</div>"
     },
     "execution_count": 18,
     "metadata": {},
     "output_type": "execute_result"
    }
   ],
   "source": [
    "df.tail()"
   ],
   "metadata": {
    "collapsed": false
   }
  },
  {
   "cell_type": "code",
   "execution_count": 14,
   "outputs": [
    {
     "data": {
      "text/plain": "         Purchase\ngroup            \ncontrol 550.89406\ntest    582.10610",
      "text/html": "<div>\n<style scoped>\n    .dataframe tbody tr th:only-of-type {\n        vertical-align: middle;\n    }\n\n    .dataframe tbody tr th {\n        vertical-align: top;\n    }\n\n    .dataframe thead th {\n        text-align: right;\n    }\n</style>\n<table border=\"1\" class=\"dataframe\">\n  <thead>\n    <tr style=\"text-align: right;\">\n      <th></th>\n      <th>Purchase</th>\n    </tr>\n    <tr>\n      <th>group</th>\n      <th></th>\n    </tr>\n  </thead>\n  <tbody>\n    <tr>\n      <th>control</th>\n      <td>550.89406</td>\n    </tr>\n    <tr>\n      <th>test</th>\n      <td>582.10610</td>\n    </tr>\n  </tbody>\n</table>\n</div>"
     },
     "execution_count": 14,
     "metadata": {},
     "output_type": "execute_result"
    }
   ],
   "source": [
    "#####################################################\n",
    "# TASK2:  Create a  A/B Testing Hypothesis\n",
    "#####################################################\n",
    "# H0 : M1 = M2 (No significant difference.)\n",
    "# H1 : M1!= M2\n",
    "\n",
    "\n",
    "# Control mean of purchases for both control and test groups\n",
    "df.groupby(\"group\")[[\"Purchase\"]].mean()"
   ],
   "metadata": {
    "collapsed": false
   }
  },
  {
   "cell_type": "code",
   "execution_count": 15,
   "outputs": [
    {
     "name": "stdout",
     "output_type": "stream",
     "text": [
      "Test Stat = 0.9773, p-value = 0.5891\n"
     ]
    }
   ],
   "source": [
    "#####################################################\n",
    "# TASK 3: hypothesis testing\n",
    "#####################################################\n",
    "\n",
    "\n",
    "################NORMALITY TEST#######################\n",
    "# Run normality test to determine if \"purchase\" variable well-modeled by a normal distribution\n",
    "\n",
    "# Null hypothesis      (H0): Data follows a normal distribution\n",
    "# Alternate Hypothesis (H1): Data does not follow a normal distribution\n",
    "test_stat, pvalue = shapiro(df.loc[df[\"group\"] == \"control\", \"Purchase\"])\n",
    "print('Test Stat = %.4f, p-value = %.4f' % (test_stat, pvalue))"
   ],
   "metadata": {
    "collapsed": false
   }
  },
  {
   "cell_type": "code",
   "execution_count": null,
   "outputs": [],
   "source": [
    "# \"purchase\" variable follows a normal distribution\n",
    "# H0 is consistent with the data"
   ],
   "metadata": {
    "collapsed": false
   }
  },
  {
   "cell_type": "code",
   "execution_count": 16,
   "outputs": [
    {
     "name": "stdout",
     "output_type": "stream",
     "text": [
      "Test Stat = 2.6393, p-value = 0.1083\n"
     ]
    }
   ],
   "source": [
    "#############  Testing Homogeneity of the Variances###########\n",
    "\n",
    "# Test Homogeneity of the Variances to determine if \"test\" and \"control\" groups have the same or similar variance\n",
    "\n",
    "# Null Hypothesis       (H0): The variances of the two groups are equal\n",
    "# Alternative Hypothesis(H1): The variances are different\n",
    "\n",
    "test_stat, pvalue = levene(df.loc[df[\"group\"] == \"control\", \"Purchase\"],\n",
    "                           df.loc[df[\"group\"] == \"test\", \"Purchase\"])\n",
    "print('Test Stat = %.4f, p-value = %.4f' % (test_stat, pvalue))\n"
   ],
   "metadata": {
    "collapsed": false
   }
  },
  {
   "cell_type": "code",
   "execution_count": null,
   "outputs": [],
   "source": [
    "# \"test\" and \"control\" groups have the same or similar variance\n",
    "# H0 is consistent with the data\n",
    "\n",
    "\n",
    "#  RESULT: data is normally distributed and the variance across groups are homogeneous.\n",
    "#  Parametric (T-TEST) will be used"
   ],
   "metadata": {
    "collapsed": false
   }
  },
  {
   "cell_type": "code",
   "execution_count": 17,
   "outputs": [
    {
     "name": "stdout",
     "output_type": "stream",
     "text": [
      "Test Stat = -0.9416, p-value = 0.3493\n"
     ]
    }
   ],
   "source": [
    "######################### T-TEST##########################\n",
    "\n",
    "# H0 : M1 = M2 (No significant difference.)\n",
    "# H1 : M1!= M2\n",
    "\n",
    "test_stat, pvalue = ttest_ind(df.loc[df[\"group\"] == \"control\", \"Purchase\"],\n",
    "                              df.loc[df[\"group\"] == \"test\", \"Purchase\"],\n",
    "                              equal_var=True)\n",
    "\n",
    "print('Test Stat = %.4f, p-value = %.4f' % (test_stat, pvalue))"
   ],
   "metadata": {
    "collapsed": false
   }
  },
  {
   "cell_type": "code",
   "execution_count": null,
   "outputs": [],
   "source": [
    "###################FINAL COMMENTS#########################"
   ],
   "metadata": {
    "collapsed": false
   }
  },
  {
   "cell_type": "code",
   "execution_count": null,
   "outputs": [],
   "source": [
    "# H0 is consistent with the data\n",
    "# No statistically significant difference between \"test\" and \"control\" groups"
   ],
   "metadata": {
    "collapsed": false
   }
  }
 ],
 "metadata": {
  "kernelspec": {
   "display_name": "Python 3",
   "language": "python",
   "name": "python3"
  },
  "language_info": {
   "codemirror_mode": {
    "name": "ipython",
    "version": 2
   },
   "file_extension": ".py",
   "mimetype": "text/x-python",
   "name": "python",
   "nbconvert_exporter": "python",
   "pygments_lexer": "ipython2",
   "version": "2.7.6"
  }
 },
 "nbformat": 4,
 "nbformat_minor": 0
}
